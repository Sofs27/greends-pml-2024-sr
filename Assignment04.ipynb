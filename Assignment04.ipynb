{
  "cells": [
    {
      "cell_type": "markdown",
      "metadata": {
        "colab_type": "text",
        "id": "view-in-github"
      },
      "source": [
        "<a href=\"https://colab.research.google.com/github/isa-ulisboa/greends-pml/blob/main/perceptron_animation.ipynb\" target=\"_parent\"><img src=\"https://colab.research.google.com/assets/colab-badge.svg\" alt=\"Open In Colab\"/></a>"
      ]
    },
    {
      "cell_type": "markdown",
      "metadata": {},
      "source": [
        "Adapt the Perceptron code for the Iris data available in the Overview notebook to output the confusion matrix, using 20% of the data set for validation. Compute also the classification accuracy, precision, recall and F1-score for the solution.\n",
        "\n",
        "Each student should create a video (3' maximum) and submit the video and the link to the GitHub repository and the file where the modified script is available.\n",
        "\n",
        "Submission deadline: Thursday, March 28."
      ]
    },
    {
      "cell_type": "code",
      "execution_count": 1,
      "metadata": {
        "colab": {
          "base_uri": "https://localhost:8080/",
          "height": 447
        },
        "id": "pwV0a8dXaXwh",
        "outputId": "40f9786b-cba0-4f9f-c550-aaf437453309"
      },
      "outputs": [
        {
          "name": "stderr",
          "output_type": "stream",
          "text": [
            "MovieWriter imagemagick unavailable; using Pillow instead.\n"
          ]
        },
        {
          "name": "stdout",
          "output_type": "stream",
          "text": [
            "Confusion Matrix:\n",
            "[[8 0]\n",
            " [7 5]]\n",
            "Accuracy: 0.65\n",
            "Precision: 1.0\n",
            "Recall: 0.4166666666666667\n",
            "F1-score: 0.5882352941176471\n"
          ]
        },
        {
          "data": {
            "image/png": "[encoded data removed]",
            "text/plain": [
              "<Figure size 640x480 with 1 Axes>"
            ]
          },
          "metadata": {},
          "output_type": "display_data"
        }
      ],
      "source": [
        "from matplotlib.animation import FuncAnimation\n",
        "import matplotlib.pyplot as plt\n",
        "import numpy as np\n",
        "import random\n",
        "import pandas as pd\n",
        "from sklearn.model_selection import train_test_split\n",
        "from sklearn.metrics import confusion_matrix, accuracy_score, precision_score, recall_score, f1_score\n",
        "\n",
        "class Perceptron():\n",
        "    #initialize hyperparameters (learning rate and number of iterations)\n",
        "    def __init__(self, eta=0.1, n_iter=50, nameA='', nameB=''):\n",
        "        self.eta = eta\n",
        "        self.n_iter = n_iter\n",
        "        self.nameA = nameA\n",
        "        self.nameB = nameB\n",
        "\n",
        "    def step_fit(self, X, y):\n",
        "        #iterate over labelled dataset updating weights for each features accordingly (stochastic gradient descent)\n",
        "        for xi, label in zip(X, y):\n",
        "            update = self.eta * (label-self.predict(xi))\n",
        "            self.w_[1:] += update * xi\n",
        "            self.w_[0] += update\n",
        "        return self\n",
        "\n",
        "    #compute the net input i.e scalar sum of X and the weights plus the bias value\n",
        "    def net_input(self, X):\n",
        "        return np.dot(X, self.w_[1:]) + self.w_[0]\n",
        "\n",
        "    #predict a classification for a sample of features X\n",
        "    def predict(self, X):\n",
        "        return np.where(self.net_input(X) >= 0.0, 1, -1)\n",
        "\n",
        "    def init_plot(self):\n",
        "        self.line.set_data([],[])\n",
        "        return self.line,\n",
        "\n",
        "    def animate(self, iteration_number, X, y):\n",
        "        self.step_fit(X, y)\n",
        "        x, y = self.plot_line(X)\n",
        "        self.line.set_data(x, y)\n",
        "        if iteration_number%2==0:\n",
        "            self.ax.text(max(X[:,0])-0.5, min(X[:,1])+0.5, f'Iteration: {iteration_number}', fontsize=12)  # Update iteration number\n",
        "        else:\n",
        "            self.ax.text(max(X[:,0])-0.5, min(X[:,1])+0.5, 'Iteration:'+' '*8, fontsize=12, bbox=dict(facecolor='white', alpha=1))\n",
        "        return self.line,\n",
        "\n",
        "    def plot_line(self, X):\n",
        "        x = []\n",
        "        y = []\n",
        "        slope = -(self.w_[0]/self.w_[2])/(self.w_[0]/self.w_[1])\n",
        "        intercept = -self.w_[0]/self.w_[2]\n",
        "        for i in np.linspace(np.amin(X[:,0])-0.5,np.amax(X[:,0])+0.5):\n",
        "            #y=mx+c, m is slope and c is intercept\n",
        "            x.append(i)\n",
        "            y.append((slope*i) + intercept)\n",
        "        return x, y\n",
        "\n",
        "    def animated_fit(self, X, y):\n",
        "        self.w_ = [random.uniform(-1.0, 1.0) for _ in range(1+X.shape[1])] #randomly initialize weights\n",
        "\n",
        "        #here figure must be defined as a variable so it can be passed to FuncAnimation\n",
        "        self.fig = plt.figure()\n",
        "\n",
        "        #setting x and y limits with a 0.5 offset\n",
        "        self.ax = plt.axes(xlim=(min(X[:,0])-0.5, max(X[:,0])+0.5), ylim=(min(X[:,1])-0.5, max(X[:,1])+0.5))\n",
        "\n",
        "        #plotting our training points\n",
        "        self.ax.plot(X[0:50, 0],X[0:50, 1], \"bo\", label=self.nameA)\n",
        "        self.ax.plot(X[50:100, 0],X[50:100, 1], \"rx\", label=self.nameB)\n",
        "\n",
        "        #labelling\n",
        "        self.ax.legend(loc='upper left')\n",
        "\n",
        "        #initialization of separation line and our animation object\n",
        "        self.line, = self.ax.plot([], [], lw=2)\n",
        "        anim = FuncAnimation(self.fig, self.animate, init_func=self.init_plot, fargs=(X, y,), frames=self.n_iter, interval=200, blit=True)\n",
        "        anim.save('learning_process.gif', writer='imagemagick')\n",
        "\n",
        "        # Splitting the dataset into training and validation sets\n",
        "        X_train, X_valid, y_train, y_valid = train_test_split(X, y, test_size=0.2, random_state=42)\n",
        "\n",
        "        # Training the perceptron on the training set (adjusts model's parameters to minimize the error between predicted and actual output)\n",
        "        self.step_fit(X_train, y_train)\n",
        "\n",
        "        # Predicting on the validation set (predicted labels can be compared with actual labels to evaluate perfomance)\n",
        "        y_pred = self.predict(X_valid)\n",
        "\n",
        "        # Generating the confusion matrix\n",
        "        conf_matrix = confusion_matrix(y_valid, y_pred)\n",
        "        print(\"Confusion Matrix:\")\n",
        "        print(conf_matrix)\n",
        "\n",
        "        # Computing classification metrics\n",
        "        accuracy = accuracy_score(y_valid, y_pred)\n",
        "        precision = precision_score(y_valid, y_pred)\n",
        "        recall = recall_score(y_valid, y_pred)\n",
        "        f1 = f1_score(y_valid, y_pred)\n",
        "\n",
        "        print(\"Accuracy:\", accuracy)\n",
        "        print(\"Precision:\", precision)\n",
        "        print(\"Recall:\", recall)\n",
        "        print(\"F1-score:\", f1)\n",
        "\n",
        "#import dataset\n",
        "df = pd.read_csv('https://archive.ics.uci.edu/ml/machine-learning-databases/iris/iris.data', header=None)\n",
        "\n",
        "SPECIES_1= {'name':\"Iris-setosa\",'s':0,'end':50} #0:50 # small size\n",
        "SPECIES_2= {'name':\"Iris-versicolor\",'s':50,'end':100} # 50:100\n",
        "SPECIES_3= {'name':\"Iris-virginica\",'s':100,'end':150} # 100:150\n",
        "spA,spB=SPECIES_2,SPECIES_3\n",
        "\n",
        "#preparing our data to be understood by our model\n",
        "X = df.iloc[np.r_[spA['s']:spA['end'],spB['s']:spB['end']], [0,2]].values\n",
        "y = df.iloc[np.r_[spA['s']:spA['end'],spB['s']:spB['end']], 4].values\n",
        "#y = np.where(y == 'Iris-setosa', -1, 1)\n",
        "y = np.where(y == spB['name'], -1, 1)\n",
        "\n",
        "ppn = Perceptron(eta=0.01, n_iter=150, nameA=spA['name'], nameB=spB['name']) #initializing a new perceptron\n",
        "ppn.animated_fit(X, y)"
      ]
    }
  ],
  "metadata": {
    "colab": {
      "authorship_tag": "ABX9TyOkoIgOmM3bRS0UbwrlTs89",
      "include_colab_link": true,
      "provenance": []
    },
    "kernelspec": {
      "display_name": "Python 3",
      "name": "python3"
    },
    "language_info": {
      "codemirror_mode": {
        "name": "ipython",
        "version": 3
      },
      "file_extension": ".py",
      "mimetype": "text/x-python",
      "name": "python",
      "nbconvert_exporter": "python",
      "pygments_lexer": "ipython3",
      "version": "3.12.2"
    }
  },
  "nbformat": 4,
  "nbformat_minor": 0
}
